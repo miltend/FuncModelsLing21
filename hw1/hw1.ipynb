{
 "cells": [
  {
   "cell_type": "markdown",
   "id": "b929d679",
   "metadata": {},
   "source": [
    "### Вариант №2"
   ]
  },
  {
   "cell_type": "markdown",
   "id": "7c692554",
   "metadata": {},
   "source": [
    "Я взял экспрессив **ever**.\n",
    "Это экспрессив, потому что:\n",
    "\n",
    "1. Independence – главная цель употребляется не дескрипция, так как описать некоторое явление можно без **ever**: \"That's the worst song I've heard.\" vs \"That's the worst song I've ever heard.\"\n",
    "2. Descriptive ineffability – обычного дескриптивного контекста бывает недостаточно: \"He was the best boxer in the history. The best **ever**!\"\n",
    "3. Repeatability – \"This the best gift I've ever gotten, **ever**!\""
   ]
  },
  {
   "cell_type": "markdown",
   "id": "90991b2a",
   "metadata": {},
   "source": [
    "Моя гипотеза – U-образный профиль данного экспрессива, так как обычно **ever** употребляется в восклицательных контекстах, который могут быть как положительными (*the best party ever!*), так и отрицательными (*this is the worst day in my life ever!*)."
   ]
  },
  {
   "cell_type": "code",
   "execution_count": 1,
   "id": "0abfdb3b",
   "metadata": {},
   "outputs": [],
   "source": [
    "import pandas as pd\n",
    "import numpy as np\n",
    "import matplotlib.pyplot as plt\n",
    "from nltk import word_tokenize"
   ]
  },
  {
   "cell_type": "code",
   "execution_count": 2,
   "id": "7d6ee5d2",
   "metadata": {},
   "outputs": [],
   "source": [
    "df = pd.read_json(\"Video_Games_5.json\", lines=True) # amazon review https://nijianmo.github.io/amazon/index.html"
   ]
  },
  {
   "cell_type": "code",
   "execution_count": 3,
   "id": "900b7d09",
   "metadata": {},
   "outputs": [
    {
     "data": {
      "text/html": [
       "<div>\n",
       "<style scoped>\n",
       "    .dataframe tbody tr th:only-of-type {\n",
       "        vertical-align: middle;\n",
       "    }\n",
       "\n",
       "    .dataframe tbody tr th {\n",
       "        vertical-align: top;\n",
       "    }\n",
       "\n",
       "    .dataframe thead th {\n",
       "        text-align: right;\n",
       "    }\n",
       "</style>\n",
       "<table border=\"1\" class=\"dataframe\">\n",
       "  <thead>\n",
       "    <tr style=\"text-align: right;\">\n",
       "      <th></th>\n",
       "      <th>overall</th>\n",
       "      <th>reviewText</th>\n",
       "    </tr>\n",
       "  </thead>\n",
       "  <tbody>\n",
       "    <tr>\n",
       "      <th>0</th>\n",
       "      <td>5</td>\n",
       "      <td>This game is a bit hard to get the hang of, bu...</td>\n",
       "    </tr>\n",
       "    <tr>\n",
       "      <th>1</th>\n",
       "      <td>4</td>\n",
       "      <td>I played it a while but it was alright. The st...</td>\n",
       "    </tr>\n",
       "    <tr>\n",
       "      <th>2</th>\n",
       "      <td>3</td>\n",
       "      <td>ok game.</td>\n",
       "    </tr>\n",
       "    <tr>\n",
       "      <th>3</th>\n",
       "      <td>2</td>\n",
       "      <td>found the game a bit too complicated, not what...</td>\n",
       "    </tr>\n",
       "    <tr>\n",
       "      <th>4</th>\n",
       "      <td>5</td>\n",
       "      <td>great game, I love it and have played it since...</td>\n",
       "    </tr>\n",
       "  </tbody>\n",
       "</table>\n",
       "</div>"
      ],
      "text/plain": [
       "   overall                                         reviewText\n",
       "0        5  This game is a bit hard to get the hang of, bu...\n",
       "1        4  I played it a while but it was alright. The st...\n",
       "2        3                                           ok game.\n",
       "3        2  found the game a bit too complicated, not what...\n",
       "4        5  great game, I love it and have played it since..."
      ]
     },
     "execution_count": 3,
     "metadata": {},
     "output_type": "execute_result"
    }
   ],
   "source": [
    "df = df.loc[:30000, [\"overall\", \"reviewText\"]]\n",
    "df = df[df['reviewText'].apply(lambda x: isinstance(x, str))] # так как датасет нечистый\n",
    "df.head()"
   ]
  },
  {
   "cell_type": "markdown",
   "id": "9b5acb8e",
   "metadata": {},
   "source": [
    "Распределение оценок в основном корпусе:"
   ]
  },
  {
   "cell_type": "code",
   "execution_count": 4,
   "id": "9e7979d7",
   "metadata": {},
   "outputs": [
    {
     "data": {
      "text/plain": [
       "5    18525\n",
       "4     6047\n",
       "3     2860\n",
       "2     1310\n",
       "1     1255\n",
       "Name: overall, dtype: int64"
      ]
     },
     "execution_count": 4,
     "metadata": {},
     "output_type": "execute_result"
    }
   ],
   "source": [
    "df[\"overall\"].value_counts()"
   ]
  },
  {
   "cell_type": "code",
   "execution_count": 5,
   "id": "dd414eae",
   "metadata": {},
   "outputs": [],
   "source": [
    "df[\"words\"] = df[\"reviewText\"].str.lower().apply(word_tokenize)"
   ]
  },
  {
   "cell_type": "markdown",
   "id": "0227eca9",
   "metadata": {},
   "source": [
    "Распределение оценок в подкорпусе:"
   ]
  },
  {
   "cell_type": "code",
   "execution_count": 7,
   "id": "30547598",
   "metadata": {
    "scrolled": true
   },
   "outputs": [
    {
     "data": {
      "text/plain": [
       "5    3044\n",
       "4     739\n",
       "3     290\n",
       "1     199\n",
       "2     187\n",
       "Name: overall, dtype: int64"
      ]
     },
     "execution_count": 7,
     "metadata": {},
     "output_type": "execute_result"
    }
   ],
   "source": [
    "my_word = \"ever\"\n",
    "mask = df.words.apply(lambda x: my_word in x)\n",
    "new_df = df[mask]\n",
    "new_df[\"overall\"].value_counts()"
   ]
  },
  {
   "cell_type": "code",
   "execution_count": 13,
   "id": "1ae6957b",
   "metadata": {},
   "outputs": [],
   "source": [
    "new_df.to_csv(\"new_corpus.tsv\", sep=\"\\t\")"
   ]
  },
  {
   "cell_type": "markdown",
   "id": "f8044855",
   "metadata": {},
   "source": [
    "Считаем длины слов:"
   ]
  },
  {
   "cell_type": "code",
   "execution_count": 9,
   "id": "59c46e2d",
   "metadata": {},
   "outputs": [
    {
     "name": "stderr",
     "output_type": "stream",
     "text": [
      "/Library/Frameworks/Python.framework/Versions/3.9/lib/python3.9/site-packages/pandas/core/indexing.py:1732: SettingWithCopyWarning: \n",
      "A value is trying to be set on a copy of a slice from a DataFrame\n",
      "\n",
      "See the caveats in the documentation: https://pandas.pydata.org/pandas-docs/stable/user_guide/indexing.html#returning-a-view-versus-a-copy\n",
      "  self._setitem_single_block(indexer, value, name)\n"
     ]
    }
   ],
   "source": [
    "def count_words_of_nlength(words, length):\n",
    "    count = 0\n",
    "    for word in words:\n",
    "        if len(word) == length:\n",
    "            count += 1\n",
    "    return count\n",
    "\n",
    "df[\"count_n\"] = 0\n",
    "for i in range(df.shape[0]):\n",
    "    df[\"count_n\"].iloc[i] = count_words_of_nlength(df[\"words\"].iloc[i], len(my_word))"
   ]
  },
  {
   "cell_type": "markdown",
   "id": "acc58b2a",
   "metadata": {},
   "source": [
    "Считаем метрику log_odds(xn, R):"
   ]
  },
  {
   "cell_type": "code",
   "execution_count": 10,
   "id": "9e46d3a0",
   "metadata": {
    "scrolled": true
   },
   "outputs": [
    {
     "name": "stdout",
     "output_type": "stream",
     "text": [
      "1. count_xn_R: 199, count_R: 37520\n",
      "2. count_xn_R: 187, count_R: 57388\n",
      "3. count_xn_R: 290, count_R: 124007\n",
      "4. count_xn_R: 739, count_R: 256813\n",
      "5. count_xn_R: 3044, count_R: 560203\n"
     ]
    }
   ],
   "source": [
    "log_odds_dict = {}\n",
    "for i in range(1, 6):\n",
    "    count_xn_R = new_df[\"overall\"].value_counts().loc[i]\n",
    "    count_R = df[(df[\"count_n\"] > 0) & (df[\"overall\"] == i)][\"count_n\"].sum()\n",
    "    log_odds = np.log(count_xn_R / (count_R - count_xn_R))\n",
    "    print(f\"{i}. count_xn_R: {count_xn_R}, count_R: {count_R}\")\n",
    "    log_odds_dict[i] = log_odds\n",
    "    \n",
    "x = np.array(list(log_odds_dict.keys()))\n",
    "y = np.array(list(log_odds_dict.values()))"
   ]
  },
  {
   "cell_type": "markdown",
   "id": "2fc420b6",
   "metadata": {},
   "source": [
    "Строим график:"
   ]
  },
  {
   "cell_type": "code",
   "execution_count": 11,
   "id": "3dfe2e94",
   "metadata": {},
   "outputs": [
    {
     "data": {
      "image/png": "[encoded data removed]",
      "text/plain": [
       "<Figure size 432x288 with 1 Axes>"
      ]
     },
     "metadata": {
      "needs_background": "light"
     },
     "output_type": "display_data"
    }
   ],
   "source": [
    "def build_graph(x, y, title):\n",
    "    fig, ax = plt.subplots()\n",
    "    lin = np.polyfit(x, y, 1) # linear model\n",
    "    quadr_model = np.poly1d(np.polyfit(x, y, 2)) # quadratic model\n",
    "    myline = np.linspace(x.min(), x.max(), 50)\n",
    "    ax.scatter(x, y, color=\"b\")\n",
    "    ax.plot(x, lin[0]*x + lin[1], \"k:\") # linear model\n",
    "    ax.plot(myline, quadr_model(myline), \"k\") # quadratic model\n",
    "    plt.xticks(np.arange(x.min(), x.max() + 1))\n",
    "    plt.title(title)\n",
    "    plt.show()\n",
    "    \n",
    "build_graph(x, y, my_word)"
   ]
  },
  {
   "cell_type": "markdown",
   "id": "4b515056",
   "metadata": {},
   "source": [
    "Видно, что квадратичная регрессия наилучшим образом описывает данные."
   ]
  },
  {
   "cell_type": "markdown",
   "id": "d4db98af",
   "metadata": {},
   "source": [
    "### Выводы"
   ]
  },
  {
   "cell_type": "markdown",
   "id": "f6f4e6e0",
   "metadata": {},
   "source": [
    "Видно, что первоначальная гипотеза об U-образном профиле потдвердилась. Посмотрим на несколько коротких отзывов:"
   ]
  },
  {
   "cell_type": "code",
   "execution_count": 14,
   "id": "ec94775b",
   "metadata": {},
   "outputs": [],
   "source": [
    "short_df = new_df[new_df[\"words\"].apply(lambda x: len(x) < 70)]"
   ]
  },
  {
   "cell_type": "markdown",
   "id": "9a65ee4a",
   "metadata": {},
   "source": [
    "Рейтинг 1:"
   ]
  },
  {
   "cell_type": "code",
   "execution_count": 15,
   "id": "af346fbf",
   "metadata": {},
   "outputs": [
    {
     "name": "stdout",
     "output_type": "stream",
     "text": [
      "this game is the hardest game ive ever played, and that takes away the fun. also graphics very poor even for nintendo 64 cannot even recommend for people i dislike don't waste your time or money worst n64 game ever\n",
      "\n",
      "this is the stuppidiest game i've ever played. I advise everyone not to play it or buy it. It really sucked.\n"
     ]
    }
   ],
   "source": [
    "print(short_df[short_df[\"overall\"] == 1][\"reviewText\"].iloc[0] + \"\\n\\n\" +\n",
    "      short_df[short_df[\"overall\"] == 1][\"reviewText\"].iloc[1])"
   ]
  },
  {
   "cell_type": "markdown",
   "id": "c29b8213",
   "metadata": {},
   "source": [
    "Рейтинг 5:"
   ]
  },
  {
   "cell_type": "code",
   "execution_count": 16,
   "id": "6ab66115",
   "metadata": {},
   "outputs": [
    {
     "name": "stdout",
     "output_type": "stream",
     "text": [
      "all i can say is that this game is a classic, possibly the best game ever made for the playstation 1.\n",
      "\n",
      "star wars rogue squadron is hands down the best n64 game ever made get this game even if you're not a star wars fan you won't regret it\n"
     ]
    }
   ],
   "source": [
    "print(short_df[short_df[\"overall\"] == 5][\"reviewText\"].iloc[3] + \"\\n\\n\" +\n",
    "      short_df[short_df[\"overall\"] == 5][\"reviewText\"].iloc[4])"
   ]
  },
  {
   "cell_type": "markdown",
   "id": "7cacb5ee",
   "metadata": {},
   "source": [
    "В примерах с рейтингом 1,5, как и ожидалось, экспрессивные и эмоциональные контексты (сугубо положительные/отрицательные)."
   ]
  },
  {
   "cell_type": "markdown",
   "id": "78b6ec17",
   "metadata": {},
   "source": [
    "Рейтинг 2-3:"
   ]
  },
  {
   "cell_type": "markdown",
   "id": "5887320f",
   "metadata": {},
   "source": [
    "В отзывах с рейтингом 2-3 присутствуют компоненты как отрицательные, так и положительные (причем есть и экспрессивные примеры)"
   ]
  },
  {
   "cell_type": "code",
   "execution_count": 17,
   "id": "7d46d745",
   "metadata": {},
   "outputs": [
    {
     "data": {
      "text/plain": [
       "\"THE GRAPHICS AREN'T TOO GOOD, THE CARS LOOK GREAT BUT ARE LOADED WITH MORE HANDLING PROBLEMS THAN EVER BEFORE, AND THE GAMEPLAY SUCKS. LET'S FACE IT, THE ONCE-GREAT RIDGE RACER SERIES IS NOW DEAD. AND THIS IS THE GAME THAT HELPED SEAL ITS FATE.\""
      ]
     },
     "execution_count": 17,
     "metadata": {},
     "output_type": "execute_result"
    }
   ],
   "source": [
    "short_df[short_df[\"overall\"] == 2][\"reviewText\"].iloc[1]"
   ]
  },
  {
   "cell_type": "code",
   "execution_count": 18,
   "id": "c25775d2",
   "metadata": {},
   "outputs": [
    {
     "data": {
      "text/plain": [
       "\"I found this game very boring and stupid. It does have the best classic games ever made on it. but i didn't find them that enjoyable, but centapide was fun the best on there. All in all it was okay i wouldn't buy it.\""
      ]
     },
     "execution_count": 18,
     "metadata": {},
     "output_type": "execute_result"
    }
   ],
   "source": [
    "short_df[short_df[\"overall\"] == 2][\"reviewText\"].iloc[3]"
   ]
  },
  {
   "cell_type": "code",
   "execution_count": 19,
   "id": "e33733ee",
   "metadata": {},
   "outputs": [
    {
     "data": {
      "text/plain": [
       "'I like all of the ff\\'s but this is the worst ever!! I do like this game and the love story is great but no matter how hard you try when you get on disc 4 and beat the game all you can say is \"wow...now wheres my ff7 disc?\" get ff9 before this one...'"
      ]
     },
     "execution_count": 19,
     "metadata": {},
     "output_type": "execute_result"
    }
   ],
   "source": [
    "short_df[short_df[\"overall\"] == 3][\"reviewText\"].iloc[0]"
   ]
  },
  {
   "cell_type": "code",
   "execution_count": 20,
   "id": "f8a1e84a",
   "metadata": {},
   "outputs": [
    {
     "data": {
      "text/plain": [
       "'When I purchased the N64 version I was disappointed that it required an expansion pak to play it. Now I have to wait a few more days for those to arrive to play one of the best games ever made.\\n\\nUPDATE: not the game I thought it was. Donkey Kong COUNTRY is the version I remember as a child.'"
      ]
     },
     "execution_count": 20,
     "metadata": {},
     "output_type": "execute_result"
    }
   ],
   "source": [
    "short_df[short_df[\"overall\"] == 3][\"reviewText\"].iloc[1]"
   ]
  },
  {
   "cell_type": "markdown",
   "id": "6ee8cc01",
   "metadata": {},
   "source": [
    "Неожиданные случаи:"
   ]
  },
  {
   "cell_type": "markdown",
   "id": "12102c4e",
   "metadata": {},
   "source": [
    "Несколько просмотренных примеров с оценкой 4 выглядят сугубо положительными, без каких-либо негативных элементов (возможно, это специфика авторов отзывов – ставить 5 в самых крайних случаях):"
   ]
  },
  {
   "cell_type": "code",
   "execution_count": 21,
   "id": "6ebdb6b0",
   "metadata": {},
   "outputs": [
    {
     "name": "stdout",
     "output_type": "stream",
     "text": [
      "Best Mario ever made!!!\n",
      "\n",
      "Great n64 game played it when I was little kid one of the best n64 games ever made next to Mario 64 and 007 golden eye\n",
      "\n",
      "Thanks again for this I have been a pokemon fanatic ever since I was a kid. I couldn't ask for more thanks again.\n"
     ]
    }
   ],
   "source": [
    "print(short_df[short_df[\"overall\"] == 4][\"reviewText\"].iloc[1] + \"\\n\\n\" +\n",
    "      short_df[short_df[\"overall\"] == 4][\"reviewText\"].iloc[3] + \"\\n\\n\" +\n",
    "      short_df[short_df[\"overall\"] == 4][\"reviewText\"].iloc[4])"
   ]
  },
  {
   "cell_type": "markdown",
   "id": "bf9fc1c2",
   "metadata": {},
   "source": [
    "Примеры, которые не должны были попасть в корпус:"
   ]
  },
  {
   "cell_type": "code",
   "execution_count": 22,
   "id": "adc048b2",
   "metadata": {},
   "outputs": [
    {
     "name": "stdout",
     "output_type": "stream",
     "text": [
      "I would rent this game. It takes no skills what so ever to beat it. Maybe it just came naturally to me, or maybe I'm just to critical but this game is not worth buying. In my opinion this game would only appeal the the 8-11 age range and even then would they only play it once or twice.\n",
      "\n",
      "The only down side is that these guides are not from Nintendo, so there's very little original art work and a lot of information. How ever the hardcover and golden side shets make it an elegant product.\n"
     ]
    }
   ],
   "source": [
    "print(short_df[short_df[\"overall\"] == 2][\"reviewText\"].iloc[2] + \"\\n\\n\" +\n",
    "      short_df[short_df[\"overall\"] == 4][\"reviewText\"].iloc[0])"
   ]
  },
  {
   "cell_type": "markdown",
   "id": "42cfbf09",
   "metadata": {},
   "source": [
    "В данных примерах имелись в виду слова *whatsoever* и *however*. Подобные примеры говорят нам о том, что для более точных выводов необходимо более детальное погружение в корпусные данные."
   ]
  }
 ],
 "metadata": {
  "kernelspec": {
   "display_name": "Python 3 (ipykernel)",
   "language": "python",
   "name": "python3"
  },
  "language_info": {
   "codemirror_mode": {
    "name": "ipython",
    "version": 3
   },
   "file_extension": ".py",
   "mimetype": "text/x-python",
   "name": "python",
   "nbconvert_exporter": "python",
   "pygments_lexer": "ipython3",
   "version": "3.9.6"
  }
 },
 "nbformat": 4,
 "nbformat_minor": 5
}
