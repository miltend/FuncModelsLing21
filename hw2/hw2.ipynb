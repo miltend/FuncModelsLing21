{
 "cells": [
  {
   "cell_type": "markdown",
   "id": "7448ac34",
   "metadata": {},
   "source": [
    "### Пункт 5"
   ]
  },
  {
   "cell_type": "markdown",
   "id": "e5635ff3",
   "metadata": {},
   "source": [
    "#### подготовка данных:"
   ]
  },
  {
   "cell_type": "code",
   "execution_count": 1,
   "id": "70d7cd47",
   "metadata": {},
   "outputs": [],
   "source": [
    "import pymorphy2\n",
    "import json\n",
    "import pandas as pd\n",
    "from nltk import sent_tokenize, word_tokenize\n",
    "from tqdm.auto import tqdm"
   ]
  },
  {
   "cell_type": "code",
   "execution_count": 2,
   "id": "91d1a87f",
   "metadata": {},
   "outputs": [],
   "source": [
    "morph = pymorphy2.MorphAnalyzer()"
   ]
  },
  {
   "cell_type": "code",
   "execution_count": 3,
   "id": "5ba73530",
   "metadata": {},
   "outputs": [],
   "source": [
    "with open(\"koncheewshop_sv.txt\", \"r\" , encoding=\"utf-8\") as f: # для примера я взял один текст\n",
    "        some_text = f.read()"
   ]
  },
  {
   "cell_type": "code",
   "execution_count": 4,
   "id": "8580fc25",
   "metadata": {},
   "outputs": [],
   "source": [
    "df = pd.DataFrame([some_text], columns=[\"text\"])"
   ]
  },
  {
   "cell_type": "code",
   "execution_count": 5,
   "id": "9875e88c",
   "metadata": {},
   "outputs": [],
   "source": [
    "df[\"sentences\"] = df[\"text\"].apply(lambda x: sent_tokenize(x, \"russian\"))"
   ]
  },
  {
   "cell_type": "code",
   "execution_count": 6,
   "id": "d31c1390",
   "metadata": {},
   "outputs": [],
   "source": [
    "df[\"words\"] = df[\"sentences\"].apply(lambda x: [word_tokenize(words) for words in x])"
   ]
  },
  {
   "cell_type": "markdown",
   "id": "bcd6896f",
   "metadata": {},
   "source": [
    "#### извлечение стимулов:"
   ]
  },
  {
   "cell_type": "code",
   "execution_count": 7,
   "id": "87f297c1",
   "metadata": {},
   "outputs": [],
   "source": [
    "my_verbs = [\"знать\", \"бояться\", \"подозревать\", \"думать\", \"подумать\", \"чувствовать\", \"понимать\", \"понять\",\n",
    "            \"надеяться\", \"забывать\", \"забыть\" , \"обнаруживать\", \"обнаружить\", \"воображать\", \"вообразить\"]\n",
    "factives = [\"знать\", \"понимать\", \"понять\", \"забывать\", \"забыть\", \"обнаруживать\", \"обнаружить\"]\n",
    "modals = [\"возможно\", \"может\", \"следует\", \"мочь\", \"надо\", \"нужно\", \"должен\", \"желательно\"]\n",
    "conjs = [\"кто\", \"что\", \"какой\", \"чей\", \"сколько\"]"
   ]
  },
  {
   "cell_type": "markdown",
   "id": "dc06ac52",
   "metadata": {},
   "source": [
    "Для того чтобы вытащить клаузы (комплементы предположительно матричного глагола) я проверял, есть ли в трех словах после глагола что-нибудь в роли союза или, если не получалось, запятая; если не выходило, то просто брал все, что после глагола, так же поступал в случае с вопросом."
   ]
  },
  {
   "cell_type": "code",
   "execution_count": 17,
   "id": "6fa023ae",
   "metadata": {},
   "outputs": [],
   "source": [
    "def get_clause(sentence, verb, condition):\n",
    "    if condition in [\"modals\", \"condition\", \"negation\"]:\n",
    "        for word in sentence[sentence.index(verb):sentence.index(verb) + 3]:\n",
    "            if morph.parse(word)[0].normal_form in conjs:\n",
    "                clause = sentence[sentence.index(word):]\n",
    "            elif \",\" in sentence[sentence.index(verb):sentence.index(verb) + 3]:\n",
    "                comma_relative_index = sentence[sentence.index(verb):sentence.index(verb) + 3].index(\",\")\n",
    "                clause = sentence[sentence.index(verb) + comma_relative_index:]\n",
    "            else:\n",
    "                clause = sentence[sentence.index(verb) + 1:]\n",
    "    elif condition == \"question\":\n",
    "        clause = sentence[sentence.index(verb) + 1: -1]\n",
    "    return \" \".join(clause)"
   ]
  },
  {
   "cell_type": "markdown",
   "id": "4b17c8dd",
   "metadata": {},
   "source": [
    "Для того, чтобы вытащить таргетное предложение, я проверял, есть ли модальный глагол, условный оператор или отрицание в трех словах до предположительно матричного глагола. В случае с вопросом я отбирал примеры со знаком вопроса в конце предложения."
   ]
  },
  {
   "cell_type": "code",
   "execution_count": 18,
   "id": "7696cc29",
   "metadata": {
    "scrolled": true
   },
   "outputs": [
    {
     "data": {
      "application/vnd.jupyter.widget-view+json": {
       "model_id": "70f9f5c5278540b696e82e76ac67582a",
       "version_major": 2,
       "version_minor": 0
      },
      "text/plain": [
       "0it [00:00, ?it/s]"
      ]
     },
     "metadata": {},
     "output_type": "display_data"
    }
   ],
   "source": [
    "my_annotation = {}\n",
    "count = 0\n",
    "for index, sent in tqdm(enumerate(df[\"words\"].iloc[0])):\n",
    "    for word in sent:\n",
    "        condition_one = morph.parse(word)[0].normal_form in my_verbs\n",
    "        condition_modals = (set(sent[sent.index(word)-3:sent.index(word)])\n",
    "                         & set(modals))\n",
    "        condition_condition = (set(sent[sent.index(word)-3:sent.index(word)])\n",
    "                         & set([\"если\"]))\n",
    "        condition_negation =(set(sent[sent.index(word)-3:sent.index(word)])\n",
    "                         & set([\"не\"]))\n",
    "        condition_question = sent[-1] == \"?\"\n",
    "        if condition_one and (condition_modals or condition_condition\n",
    "                              or condition_negation or condition_question):\n",
    "            if condition_modals:\n",
    "                condition = \"modals\"\n",
    "            elif condition_condition:\n",
    "                condition = \"condition\"\n",
    "            elif condition_negation:\n",
    "                condition = \"negation\"\n",
    "            else:\n",
    "                condition = \"question\"\n",
    "            \n",
    "            clause = get_clause(sent, word, condition)\n",
    "            is_factive = morph.parse(word)[0].normal_form in factives\n",
    "            my_annotation[count] = {\"target\": \" \".join(sent), \"clause\": clause,\n",
    "                                    \"context\": df[\"sentences\"].iloc[0][index-2:index], \"verb\": word,\n",
    "                                    \"embedding\": condition, \"factive\": is_factive,\n",
    "                                    \"tense\": morph.parse(word)[0].tag.tense, \"genre\": \"philosophy\"}\n",
    "            count += 1"
   ]
  },
  {
   "cell_type": "code",
   "execution_count": 19,
   "id": "3ea76b7b",
   "metadata": {},
   "outputs": [],
   "source": [
    "# with open(\"my_annotation.txt\", \"w\", encoding=\"utf-8\") as f:\n",
    "#     json.dump(my_annotation, f)"
   ]
  },
  {
   "cell_type": "code",
   "execution_count": 20,
   "id": "0603b5b6",
   "metadata": {},
   "outputs": [
    {
     "data": {
      "text/html": [
       "<div>\n",
       "<style scoped>\n",
       "    .dataframe tbody tr th:only-of-type {\n",
       "        vertical-align: middle;\n",
       "    }\n",
       "\n",
       "    .dataframe tbody tr th {\n",
       "        vertical-align: top;\n",
       "    }\n",
       "\n",
       "    .dataframe thead th {\n",
       "        text-align: right;\n",
       "    }\n",
       "</style>\n",
       "<table border=\"1\" class=\"dataframe\">\n",
       "  <thead>\n",
       "    <tr style=\"text-align: right;\">\n",
       "      <th></th>\n",
       "      <th>target</th>\n",
       "      <th>clause</th>\n",
       "      <th>context</th>\n",
       "      <th>verb</th>\n",
       "      <th>embedding</th>\n",
       "      <th>factive</th>\n",
       "      <th>tense</th>\n",
       "      <th>genre</th>\n",
       "    </tr>\n",
       "  </thead>\n",
       "  <tbody>\n",
       "    <tr>\n",
       "      <th>0</th>\n",
       "      <td>Первый и главный аргумент , по отношению к кот...</td>\n",
       "      <td>, ошибочно вообразив , что требуется установит...</td>\n",
       "      <td>[Так как\\nАкадемия опубликовала свой отзыв о м...</td>\n",
       "      <td>понял</td>\n",
       "      <td>negation</td>\n",
       "      <td>True</td>\n",
       "      <td>past</td>\n",
       "      <td>philosophy</td>\n",
       "    </tr>\n",
       "    <tr>\n",
       "      <th>1</th>\n",
       "      <td>Но так поймет и должен понять ее всякий , кто ...</td>\n",
       "      <td>ее всякий , кто прочтет тему : это прямо напеч...</td>\n",
       "      <td>[Это и есть, бесспорно, то fundamentum\\nphilos...</td>\n",
       "      <td>понять</td>\n",
       "      <td>modals</td>\n",
       "      <td>True</td>\n",
       "      <td>None</td>\n",
       "      <td>philosophy</td>\n",
       "    </tr>\n",
       "    <tr>\n",
       "      <th>2</th>\n",
       "      <td>Ибо пока не существует признанная объективной ...</td>\n",
       "      <td>, возможна ли вообще подобная метафизика , а т...</td>\n",
       "      <td>[А\\nтут еще присоединяется и то обстоятельство...</td>\n",
       "      <td>знаем</td>\n",
       "      <td>negation</td>\n",
       "      <td>True</td>\n",
       "      <td>pres</td>\n",
       "      <td>philosophy</td>\n",
       "    </tr>\n",
       "    <tr>\n",
       "      <th>3</th>\n",
       "      <td>Ибо , как истинная Академия , она не знает ник...</td>\n",
       "      <td>никаких иных интересов , кроме интересов истин...</td>\n",
       "      <td>[Правда, это не помешало Королевской Норвежско...</td>\n",
       "      <td>знает</td>\n",
       "      <td>negation</td>\n",
       "      <td>True</td>\n",
       "      <td>pres</td>\n",
       "      <td>philosophy</td>\n",
       "    </tr>\n",
       "    <tr>\n",
       "      <th>4</th>\n",
       "      <td>я и взялся дать на них ответ . Ибо хотя мне да...</td>\n",
       "      <td>что я слишком серьезно отношусь к философии , ...</td>\n",
       "      <td>[Опасения за последствия и есть, без\\nсомнения...</td>\n",
       "      <td>думал</td>\n",
       "      <td>negation</td>\n",
       "      <td>False</td>\n",
       "      <td>past</td>\n",
       "      <td>philosophy</td>\n",
       "    </tr>\n",
       "    <tr>\n",
       "      <th>...</th>\n",
       "      <td>...</td>\n",
       "      <td>...</td>\n",
       "      <td>...</td>\n",
       "      <td>...</td>\n",
       "      <td>...</td>\n",
       "      <td>...</td>\n",
       "      <td>...</td>\n",
       "      <td>...</td>\n",
       "    </tr>\n",
       "    <tr>\n",
       "      <th>58</th>\n",
       "      <td>Помнится , я читал , что один англичанин , зас...</td>\n",
       "      <td>, какой она бросила на него , умирая , и с тех...</td>\n",
       "      <td>[И сострадание это указывает для себя один и т...</td>\n",
       "      <td>забыть</td>\n",
       "      <td>negation</td>\n",
       "      <td>True</td>\n",
       "      <td>None</td>\n",
       "      <td>philosophy</td>\n",
       "    </tr>\n",
       "    <tr>\n",
       "      <th>59</th>\n",
       "      <td>В Азии религии дают животным достаточную защит...</td>\n",
       "      <td>о подобного рода обществах .</td>\n",
       "      <td>[Эта \\nтонко чувствующая английская нация пере...</td>\n",
       "      <td>думает</td>\n",
       "      <td>negation</td>\n",
       "      <td>False</td>\n",
       "      <td>pres</td>\n",
       "      <td>philosophy</td>\n",
       "    </tr>\n",
       "    <tr>\n",
       "      <th>60</th>\n",
       "      <td>Его члены организуют тайный надзор , чтобы зат...</td>\n",
       "      <td>всюду * * * .</td>\n",
       "      <td>[К чести англичан надо поэтому \\nсказать, что ...</td>\n",
       "      <td>бояться</td>\n",
       "      <td>modals</td>\n",
       "      <td>False</td>\n",
       "      <td>None</td>\n",
       "      <td>philosophy</td>\n",
       "    </tr>\n",
       "    <tr>\n",
       "      <th>61</th>\n",
       "      <td>Требование это и здесь поднимает вопрос , поче...</td>\n",
       "      <td>имеет тот , а не иной вид и каким образом изло...</td>\n",
       "      <td>[Как в конце всякого \\nисследования и всякой р...</td>\n",
       "      <td>понятое</td>\n",
       "      <td>question</td>\n",
       "      <td>True</td>\n",
       "      <td>past</td>\n",
       "      <td>philosophy</td>\n",
       "    </tr>\n",
       "    <tr>\n",
       "      <th>62</th>\n",
       "      <td>: &amp; # 171 ; Я уже не раз замечал , что знатоки...</td>\n",
       "      <td>лучшего в своем деле &amp; # 187 ; ( Лихтенберг Г....</td>\n",
       "      <td>[С. 95., 060Ср.]</td>\n",
       "      <td>знают</td>\n",
       "      <td>negation</td>\n",
       "      <td>True</td>\n",
       "      <td>pres</td>\n",
       "      <td>philosophy</td>\n",
       "    </tr>\n",
       "  </tbody>\n",
       "</table>\n",
       "<p>63 rows × 8 columns</p>\n",
       "</div>"
      ],
      "text/plain": [
       "                                               target  \\\n",
       "0   Первый и главный аргумент , по отношению к кот...   \n",
       "1   Но так поймет и должен понять ее всякий , кто ...   \n",
       "2   Ибо пока не существует признанная объективной ...   \n",
       "3   Ибо , как истинная Академия , она не знает ник...   \n",
       "4   я и взялся дать на них ответ . Ибо хотя мне да...   \n",
       "..                                                ...   \n",
       "58  Помнится , я читал , что один англичанин , зас...   \n",
       "59  В Азии религии дают животным достаточную защит...   \n",
       "60  Его члены организуют тайный надзор , чтобы зат...   \n",
       "61  Требование это и здесь поднимает вопрос , поче...   \n",
       "62  : & # 171 ; Я уже не раз замечал , что знатоки...   \n",
       "\n",
       "                                               clause  \\\n",
       "0   , ошибочно вообразив , что требуется установит...   \n",
       "1   ее всякий , кто прочтет тему : это прямо напеч...   \n",
       "2   , возможна ли вообще подобная метафизика , а т...   \n",
       "3   никаких иных интересов , кроме интересов истин...   \n",
       "4   что я слишком серьезно отношусь к философии , ...   \n",
       "..                                                ...   \n",
       "58  , какой она бросила на него , умирая , и с тех...   \n",
       "59                       о подобного рода обществах .   \n",
       "60                                      всюду * * * .   \n",
       "61  имеет тот , а не иной вид и каким образом изло...   \n",
       "62  лучшего в своем деле & # 187 ; ( Лихтенберг Г....   \n",
       "\n",
       "                                              context     verb embedding  \\\n",
       "0   [Так как\\nАкадемия опубликовала свой отзыв о м...    понял  negation   \n",
       "1   [Это и есть, бесспорно, то fundamentum\\nphilos...   понять    modals   \n",
       "2   [А\\nтут еще присоединяется и то обстоятельство...    знаем  negation   \n",
       "3   [Правда, это не помешало Королевской Норвежско...    знает  negation   \n",
       "4   [Опасения за последствия и есть, без\\nсомнения...    думал  negation   \n",
       "..                                                ...      ...       ...   \n",
       "58  [И сострадание это указывает для себя один и т...   забыть  negation   \n",
       "59  [Эта \\nтонко чувствующая английская нация пере...   думает  negation   \n",
       "60  [К чести англичан надо поэтому \\nсказать, что ...  бояться    modals   \n",
       "61  [Как в конце всякого \\nисследования и всякой р...  понятое  question   \n",
       "62                                   [С. 95., 060Ср.]    знают  negation   \n",
       "\n",
       "   factive tense       genre  \n",
       "0     True  past  philosophy  \n",
       "1     True  None  philosophy  \n",
       "2     True  pres  philosophy  \n",
       "3     True  pres  philosophy  \n",
       "4    False  past  philosophy  \n",
       "..     ...   ...         ...  \n",
       "58    True  None  philosophy  \n",
       "59   False  pres  philosophy  \n",
       "60   False  None  philosophy  \n",
       "61    True  past  philosophy  \n",
       "62    True  pres  philosophy  \n",
       "\n",
       "[63 rows x 8 columns]"
      ]
     },
     "execution_count": 20,
     "metadata": {},
     "output_type": "execute_result"
    }
   ],
   "source": [
    "# df_annotation = pd.read_json(\"my_annotation.txt\").T\n",
    "df_annotation.to_csv(\"my_annotation.tsv\", sep=\"\\t\")\n",
    "df_annotation"
   ]
  },
  {
   "cell_type": "markdown",
   "id": "842d9c54",
   "metadata": {},
   "source": [
    "#### Выводы"
   ]
  },
  {
   "cell_type": "markdown",
   "id": "ab90188d",
   "metadata": {},
   "source": [
    "Я добавил в аннотацию столбец \"Clause\", так как это могло бы быть удобно для последующей ручной оценки комитмента. Но реализовать это оказалось непросто, поэтому здесь это скорее как пример, что могло бы получиться. Также, я убрал столбцы \"Prompt\", так как автоматически его не разметить, и столбцы про субъект матричного предиката, так как определить автоматически субъект без синтаксического парсера очень трудно.\n",
    "\n",
    "Видно, что правилами отбора стимулов, которые я привел не всегда отбирается то, что нужно (ср., *Невежда , думающий так , никогда раньше так не думал , но в конце концов вынужден был сдаться & # 187 ; 58 ( фр . ) .* или *Пока мы их не могли понять , они не существовали для нашей воли .*); но иногда находится нужное (ср. *Ибо пока не существует признанная объективной и неоспоримая метафизика , т.е.просто метафизика , мы не знаем даже , возможна ли вообще подобная метафизика , а также & # 151 ; какова она будет и может быть .* или *Ибо хотя мне давно уже стало ясно , что я слишком серьезно отношусь к философии , чтобы мог сделаться ее профессором , но я все-таки не думал , что тот же самый порок может повредить мне и в глазах какой-либо академии .*).\n",
    "\n",
    "\n",
    "Возможное улучшение работа алгоритма, как мне кажется – использование синтаксического парсера. Если через него вводить ограничения на комплемент матричного предиката, то может быть лучше."
   ]
  },
  {
   "cell_type": "markdown",
   "id": "cde5488d",
   "metadata": {},
   "source": [
    "Я еще пытался реализовать выделение клауз через spacy отсюда (https://subscription.packtpub.com/book/data/9781838987312/2/ch02lvl1sec13/splitting-sentences-into-clauses),\n",
    "но на сложных предложениях не лучше работает:"
   ]
  },
  {
   "cell_type": "code",
   "execution_count": 83,
   "id": "ad4e9796",
   "metadata": {},
   "outputs": [],
   "source": [
    "import spacy"
   ]
  },
  {
   "cell_type": "code",
   "execution_count": 85,
   "id": "a3486cb0",
   "metadata": {
    "scrolled": true
   },
   "outputs": [],
   "source": [
    "nlp = spacy.load(\"ru_core_news_sm\")"
   ]
  },
  {
   "cell_type": "code",
   "execution_count": 311,
   "id": "5c34bf33",
   "metadata": {},
   "outputs": [],
   "source": [
    "sentence = \" \".join(df[\"words\"].iloc[0][87])"
   ]
  },
  {
   "cell_type": "code",
   "execution_count": 312,
   "id": "fe18690c",
   "metadata": {},
   "outputs": [
    {
     "data": {
      "text/plain": [
       "'Ибо пока не существует признанная объективной и неоспоримая метафизика , т.е.просто метафизика , мы не знаем даже , возможна ли вообще подобная метафизика , а также & # 151 ; какова она будет и может быть .'"
      ]
     },
     "execution_count": 312,
     "metadata": {},
     "output_type": "execute_result"
    }
   ],
   "source": [
    "sentence"
   ]
  },
  {
   "cell_type": "code",
   "execution_count": 111,
   "id": "9143a0da",
   "metadata": {},
   "outputs": [],
   "source": [
    "doc = nlp(\" \".join(sentence))"
   ]
  },
  {
   "cell_type": "code",
   "execution_count": 112,
   "id": "c8e91739",
   "metadata": {
    "scrolled": true
   },
   "outputs": [],
   "source": [
    "for token in doc:\n",
    "    ancestors = [t.text for t in token.ancestors]\n",
    "    children = [t.text for t in token.children]"
   ]
  },
  {
   "cell_type": "code",
   "execution_count": 113,
   "id": "ececb1c7",
   "metadata": {},
   "outputs": [],
   "source": [
    "def find_root_of_sentence(doc):\n",
    "    root_token = None\n",
    "    for token in doc:\n",
    "        if (token.dep_ == \"ROOT\"):\n",
    "            root_token = token\n",
    "    return root_token"
   ]
  },
  {
   "cell_type": "code",
   "execution_count": 114,
   "id": "7ecdb8ee",
   "metadata": {},
   "outputs": [],
   "source": [
    "root_token = find_root_of_sentence(doc)"
   ]
  },
  {
   "cell_type": "code",
   "execution_count": 115,
   "id": "f21fcb2f",
   "metadata": {},
   "outputs": [],
   "source": [
    "def find_other_verbs(doc, root_token):\n",
    "    other_verbs = []\n",
    "    for token in doc:\n",
    "        ancestors = list(token.ancestors)\n",
    "        if (token.pos_ == \"VERB\" and len(ancestors) == 1\\\n",
    "            and ancestors[0] == root_token):\n",
    "            other_verbs.append(token)\n",
    "    return other_verbs"
   ]
  },
  {
   "cell_type": "code",
   "execution_count": 116,
   "id": "7f32a6b1",
   "metadata": {},
   "outputs": [],
   "source": [
    "other_verbs = find_other_verbs(doc, root_token)"
   ]
  },
  {
   "cell_type": "code",
   "execution_count": 117,
   "id": "e940638a",
   "metadata": {},
   "outputs": [],
   "source": [
    "def get_clause_token_span_for_verb(verb, doc, all_verbs):\n",
    "    first_token_index = len(doc)\n",
    "    last_token_index = 0\n",
    "    this_verb_children = list(verb.children)\n",
    "    for child in this_verb_children:\n",
    "        if (child not in all_verbs):\n",
    "            if (child.i < first_token_index):\n",
    "                first_token_index = child.i\n",
    "            if (child.i > last_token_index):\n",
    "                last_token_index = child.i\n",
    "    return(first_token_index, last_token_index)"
   ]
  },
  {
   "cell_type": "code",
   "execution_count": 118,
   "id": "862c46c9",
   "metadata": {},
   "outputs": [],
   "source": [
    "token_spans = []   \n",
    "all_verbs = [root_token] + other_verbs\n",
    "for other_verb in all_verbs:\n",
    "    (first_token_index, last_token_index) = \\\n",
    "     get_clause_token_span_for_verb(other_verb, \n",
    "                                    doc, all_verbs)\n",
    "    token_spans.append((first_token_index, \n",
    "                        last_token_index))"
   ]
  },
  {
   "cell_type": "code",
   "execution_count": 119,
   "id": "6dfd033c",
   "metadata": {},
   "outputs": [],
   "source": [
    "sentence_clauses = []\n",
    "for token_span in token_spans:\n",
    "    start = token_span[0]\n",
    "    end = token_span[1]\n",
    "    if (start < end):\n",
    "        clause = doc[start:end]\n",
    "        sentence_clauses.append(clause)\n",
    "sentence_clauses = sorted(sentence_clauses, \n",
    "                          key=lambda tup: tup[0])"
   ]
  },
  {
   "cell_type": "code",
   "execution_count": 121,
   "id": "fb8f8237",
   "metadata": {},
   "outputs": [
    {
     "data": {
      "text/plain": [
       "['Ибо пока не существует признанная объективной и неоспоримая метафизика , т.е.просто метафизика',\n",
       " 'мы не знаем даже , возможна ли вообще подобная метафизика , а также & # 151 ; какова она будет и может быть',\n",
       " 'и может']"
      ]
     },
     "execution_count": 121,
     "metadata": {},
     "output_type": "execute_result"
    }
   ],
   "source": [
    "clauses_text = [clause.text for clause in sentence_clauses]\n",
    "clauses_text"
   ]
  },
  {
   "cell_type": "code",
   "execution_count": null,
   "id": "8a2d94d7",
   "metadata": {},
   "outputs": [],
   "source": []
  }
 ],
 "metadata": {
  "kernelspec": {
   "display_name": "Python 3 (ipykernel)",
   "language": "python",
   "name": "python3"
  },
  "language_info": {
   "codemirror_mode": {
    "name": "ipython",
    "version": 3
   },
   "file_extension": ".py",
   "mimetype": "text/x-python",
   "name": "python",
   "nbconvert_exporter": "python",
   "pygments_lexer": "ipython3",
   "version": "3.9.6"
  }
 },
 "nbformat": 4,
 "nbformat_minor": 5
}
